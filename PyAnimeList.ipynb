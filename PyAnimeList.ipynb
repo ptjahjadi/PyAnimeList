{
 "cells": [
  {
   "cell_type": "markdown",
   "metadata": {},
   "source": [
    "PyAnimeList by Patrick Tjahjadi\n",
    "\n",
    "Program to retrieve Anime/Donghua data from MyAnimeList, including score, year, genre, etc.\n",
    "\n",
    "Allows users to filter Anime/Donghua based on these attributes with a sorting feature.\n",
    "\n",
    "Search for your favourite Anime/Donghua or simply look for recommendation with the filtering and sorting feature!"
   ]
  },
  {
   "cell_type": "code",
   "execution_count": null,
   "metadata": {},
   "outputs": [],
   "source": [
    "# Imported Libraries\n",
    "from jikanpy import Jikan\n",
    "import pandas as pd\n",
    "import time\n",
    "from IPython.display import clear_output\n",
    "import dill\n",
    "from rake_nltk import Rake\n",
    "import numpy as np\n",
    "from sklearn.metrics.pairwise import cosine_similarity\n",
    "from sklearn.feature_extraction.text import CountVectorizer\n",
    "import difflib"
   ]
  },
  {
   "cell_type": "code",
   "execution_count": null,
   "metadata": {},
   "outputs": [],
   "source": [
    "# Function to ask for an anime title and recommend anime based on cosine similarity\n",
    "def anime_recommendations(cosine_sim, number_anime):\n",
    "    anime_titles = list(anime_df['Title'])\n",
    "    # Create another list to remove case sensitivity in searching anime\n",
    "    anime_titles_lower = [title.lower() for title in anime_titles]      \n",
    "    anime_title = input(\"Input an anime title for recommendation:\\n\")\n",
    "    \n",
    "    # Recommend an anime if a similar match is found\n",
    "    try:\n",
    "        anime_title = difflib.get_close_matches(anime_title.lower(), anime_titles_lower, n = 1, cutoff = 0.5)[0]\n",
    "        \n",
    "        # Find the position of the anime title in the list\n",
    "        idx = anime_titles_lower.index(anime_title)\n",
    "        \n",
    "        # Retrieve the top 10 most similar anime based on cosine similarity\n",
    "        score_series = pd.Series(cosine_sim[idx]).sort_values(ascending = False)\n",
    "        clear_output(wait=True)\n",
    "        print(\"Anime similar to \"+anime_titles[idx]+\" are:\")\n",
    "        top_10_indexes = list(score_series.iloc[1:(number_anime + 1)].index)\n",
    "        for index in top_10_indexes:\n",
    "            print(anime_df.Title.iloc[index])\n",
    "            \n",
    "    except IndexError:\n",
    "        print(\"No results found.\")"
   ]
  },
  {
   "cell_type": "code",
   "execution_count": null,
   "metadata": {},
   "outputs": [],
   "source": [
    "# Function to recommend anime based on query results in Phase 1\n",
    "def anime_recommendations_from_query(query_recommendation_list, cosine_sim, number_anime):\n",
    "    anime_titles = list(anime_df['Title'])\n",
    "    num_output = round(number_anime / len(query_recommendation_list)) + 1\n",
    "    top_anime = []\n",
    "    for recommended_title in query_recommendation_list:\n",
    "        anime_title = difflib.get_close_matches(recommended_title, anime_titles, n = 1, cutoff = 0.5)[0]\n",
    "        idx = anime_titles.index(anime_title)\n",
    "        score_series = pd.Series(cosine_sim[idx]).sort_values(ascending = False)\n",
    "        testlist = list(score_series.iloc[1:num_output].index)\n",
    "        top_anime.append(testlist)\n",
    "\n",
    "    print(\"Based on your recent queries, here are some recommended anime for you:\")\n",
    "    for each_recommended_anime in top_anime:\n",
    "        for index in each_recommended_anime:\n",
    "            print(anime_df.Title.iloc[index])"
   ]
  },
  {
   "cell_type": "code",
   "execution_count": null,
   "metadata": {},
   "outputs": [],
   "source": [
    "# Function to clean words from punctuation and remove capital case to standardise text tokens\n",
    "def clean_text(word):\n",
    "    punctuations = '''!()-[]{};:'\"\\,<>./?@#$%^&*_123456789~'''\n",
    "    no_punct = \"\"\n",
    "    for char in word:\n",
    "        if char not in punctuations:\n",
    "            no_punct = no_punct + char\n",
    "    return no_punct.lower()"
   ]
  },
  {
   "cell_type": "code",
   "execution_count": null,
   "metadata": {},
   "outputs": [],
   "source": [
    "# We can load this later instead of retrieving data again\n",
    "dill.load_session('my_anime_list.db')\n"
   ]
  },
  {
   "cell_type": "code",
   "execution_count": null,
   "metadata": {},
   "outputs": [],
   "source": [
    "\"\"\"\n",
    "Skip running this block if the session \"my_anime_list.db\" has been loaded\n",
    "\"\"\"\n",
    "\n",
    "# Set up data for anime from 2000 to 2020 for retrieval using the Jikan API\n",
    "\n",
    "jikan = Jikan()\n",
    "\n",
    "years = [2000, 2001, 2002, 2003, 2004, 2005, 2006, 2007, 2008, 2009, 2010,\n",
    "         2011, 2012, 2013, 2014, 2015, 2016, 2017, 2018, 2019, 2020]\n",
    "seasons = ['winter', 'spring', 'summer', 'fall']\n",
    "\n",
    "myanimelist = []"
   ]
  },
  {
   "cell_type": "code",
   "execution_count": null,
   "metadata": {},
   "outputs": [],
   "source": [
    "\"\"\"\n",
    "Skip running this block if the session \"my_anime_list.db\" has been loaded\n",
    "\"\"\"\n",
    "\n",
    "# Retrieve anime data through Jikan\n",
    "# Time delay of 7 seconds per year for API rate limiting\n",
    "for year in years:\n",
    "    for season in seasons:\n",
    "        myanimelist.append(jikan.season(year = year, season = season))\n",
    "    time.sleep(7)"
   ]
  },
  {
   "cell_type": "markdown",
   "metadata": {},
   "source": [
    "PHASE 1: Store and retrieve anime data in dataframes for search and sort"
   ]
  },
  {
   "cell_type": "code",
   "execution_count": null,
   "metadata": {},
   "outputs": [],
   "source": [
    "# Collect all necessary attributes: Title, Score, Members, Genre, Producers, Year, Season and Synopsis\n",
    "animedata = []\n",
    "for animeseason in myanimelist:\n",
    "    for show in animeseason['anime']:\n",
    "        animedata.append([show['title'], show['score'], show['members'], ', '.join(genre['name'] for genre in show['genres']), \n",
    "                        ', '.join(producer['name'] for producer in show['producers']), animeseason[\"season_year\"],\n",
    "                        animeseason[\"season_name\"], show['synopsis']])\n",
    "        "
   ]
  },
  {
   "cell_type": "code",
   "execution_count": null,
   "metadata": {},
   "outputs": [],
   "source": [
    "# Create a dataframe to store Anime data and remove duplicate entries\n",
    "anime_df = pd.DataFrame(animedata, columns = [\"Title\", \"Score\", \"Members\", \"Genre\", \"Producers\", \"Year\", \"Season\", \"Synopsis\",])\n",
    "anime_df.drop_duplicates(subset=\"Title\", keep = 'first', inplace = True)\n",
    "anime_df.index.name = \"ID\""
   ]
  },
  {
   "cell_type": "code",
   "execution_count": null,
   "metadata": {},
   "outputs": [],
   "source": [
    "query_recommendation_list = []\n",
    "\n",
    "# Function to retrieve anime based on filtering and sorting input\n",
    "def get_my_anime(output_anime_df):\n",
    "    list_of_queries = []\n",
    "    list_of_sort = [\"None\"]\n",
    "    query_loop = 0\n",
    "    while (1):\n",
    "        if (query_loop == 1):\n",
    "            print(\"Your queries: \\n\"+\", \".join(list_of_queries))\n",
    "        method = input(\"Search anime based on (Title, Score, Members, Genre, Year, Season or Synopsis)? \"+\n",
    "                       \"Otherwise, input 0.\\n\")\n",
    "        if (method == \"0\"):\n",
    "            break\n",
    "        elif (method.lower() in [\"title\", \"score\", \"members\", \"genre\", \"year\", \"season\", \"synopsis\"]):\n",
    "            output_anime_df = query_my_anime(output_anime_df, method, list_of_queries)\n",
    "        query_loop = 1\n",
    "    \n",
    "    # Prefill the list of queries if the user searches without any query\n",
    "    if not list_of_queries:\n",
    "        list_of_queries = [\"None\"]\n",
    "    output_anime_df = sort_my_anime(output_anime_df, list_of_queries, list_of_sort)\n",
    "    clear_output(wait=True)\n",
    "    \n",
    "    # Print queries and sorting method, and ask for how many results to be output\n",
    "    print(\"Your queries: \\n\"+\", \".join(list_of_queries))\n",
    "    print(\"\\nYour sorting method: \\n\"+list_of_sort[0])\n",
    "    limit = int(limit_my_anime())\n",
    "    \n",
    "    # Print queries, sorting method and the number of output results\n",
    "    clear_output(wait=True)\n",
    "    print(\"Your queries: \\n\"+\", \".join(list_of_queries))\n",
    "    print(\"\\nYour sorting method: \\n\"+list_of_sort[0])\n",
    "    print(\"\\nYour search yields\", output_anime_df.head(limit).shape[0], \"results\")\n",
    "    # If the keywords column is present, remove it for querying\n",
    "    try:\n",
    "        output_anime_df.drop(columns = ['Keywords'], inplace = True)\n",
    "    except:\n",
    "        pass\n",
    "    return output_anime_df.head(limit)\n",
    "\n",
    "# Function to filter anime based on attributes\n",
    "def query_my_anime(interim_df, method, list_of_queries):\n",
    "    if (method.lower() in [\"title\", \"genre\", \"producers\", \"season\", \"synopsis\"]):\n",
    "        query_content = input(\"Search by anime \"+method.capitalize()+\":\\n\")\n",
    "        interim_df = interim_df.query('{}.str.contains(\"{}\")'.format(method.capitalize(), query_content),\n",
    "                                      engine = 'python')\n",
    "        list_of_queries.append(\"{}: {}\".format(method.capitalize(), query_content))\n",
    "        \n",
    "    elif (method.lower() in [\"score\", \"members\", \"year\"]):\n",
    "        operator = input(\"Find anime \"+method.capitalize()+\n",
    "                         \" less than, equal to, greater than, or range (L = Less, E = Equal, G = Greater, R = Range)?\\n\")\n",
    "        if (operator.lower() in [\"g\", \"greater\", \"greater than\"]):\n",
    "            value = input(\"Greater than which \"+method.capitalize()+ \"?\\n\")\n",
    "            interim_df = interim_df.query('{} > {}'.format(method.capitalize(), value))\n",
    "            list_of_queries.append(\"{} > {}\".format(method.capitalize(), value))\n",
    "        elif (operator.lower() in [\"e\", \"equal\", \"equal to\"]):\n",
    "            value = input(\"Equal to which \"+method.capitalize()+ \"?\\n\")\n",
    "            interim_df = interim_df.query('{} == {}'.format(method.capitalize(), value))\n",
    "            list_of_queries.append(\"{} = {}\".format(method.capitalize(), value))\n",
    "        elif (operator.lower() in [\"l\", \"less\", \"less than\"]):\n",
    "            value = input(\"Less than which \"+method.capitalize()+ \"?\\n\")\n",
    "            interim_df = interim_df.query('{} < {}'.format(method.capitalize(), value))\n",
    "            list_of_queries.append(\"{} < {}\".format(method.capitalize(), value))\n",
    "        elif (operator.lower() in [\"r\", \"range\"]):\n",
    "            value_low = input(\"Between which values inclusive? Set lower limit:\\n\")\n",
    "            value_high = input(\"Between which values inclusive? Set upper limit:\\n\")\n",
    "            interim_df.query('{} > {} and {} < {}'.format\n",
    "                             (method.capitalize(), value_low, method.capitalize(), value_high))\n",
    "            list_of_queries.append(\"{} <= {} <= {}\".format(value_low, method.capitalize(), value_high))\n",
    "    clear_output(wait=True)        \n",
    "    return interim_df\n",
    "\n",
    "# Functions to sort the order of anime to be output\n",
    "def sort_my_anime(interim_df, list_of_queries, list_of_sort):\n",
    "    clear_output(wait = True)\n",
    "    print(\"Your queries: \\n\"+\", \".join(list_of_queries))\n",
    "    while (1):\n",
    "        sort_attribute = input(\"Any sorting method (Title, Score, Members, Genre, Year, Season or Synopsis)? \"+\n",
    "                               \"Otherwise, input 0.\\n\")\n",
    "        if (sort_attribute.lower() in [\"title\", \"score\", \"members\", \"genre\", \"year\", \"season\", \"synopsis\"]):\n",
    "            while (1):\n",
    "                sort_method = input(\"Ascending or Descending (A = Ascending, D = Descending)?\\n\")\n",
    "                if (sort_method.lower() in [\"a\", \"ascending\"]):\n",
    "                    interim_df = interim_df.sort_values(sort_attribute.capitalize(), ascending = True)\n",
    "                    list_of_sort[0] = sort_attribute.capitalize()+\": Ascending\"\n",
    "                    return interim_df\n",
    "                elif (sort_method.lower() in [\"d\", \"descending\"]):\n",
    "                    interim_df = interim_df.sort_values(sort_attribute.capitalize(), ascending = False)\n",
    "                    list_of_sort[0] = sort_attribute.capitalize()+\": Descending\"\n",
    "                    return interim_df\n",
    "        elif (sort_attribute == \"0\"):\n",
    "            return interim_df\n",
    "        \n",
    "def limit_my_anime():\n",
    "    limit = input(\"How many results would you like?\")\n",
    "    return limit"
   ]
  },
  {
   "cell_type": "code",
   "execution_count": null,
   "metadata": {},
   "outputs": [],
   "source": [
    "# Query and search for anime here!\n",
    "query_df = get_my_anime(anime_df)\n",
    "if query_df[\"Title\"].iloc[0] not in query_recommendation_list:\n",
    "    query_recommendation_list.append(query_df[\"Title\"].iloc[0])\n",
    "query_df"
   ]
  },
  {
   "cell_type": "markdown",
   "metadata": {},
   "source": [
    "PHASE 2: Use natural language processing to determine anime similarity for recommendation"
   ]
  },
  {
   "cell_type": "code",
   "execution_count": null,
   "metadata": {},
   "outputs": [],
   "source": [
    "\"\"\"\n",
    "Skip running this block if the session \"my_anime_list.db\" has been loaded\n",
    "\"\"\"\n",
    "\n",
    "# Initializing a keywords column for natural language processing\n",
    "anime_df['Keywords'] = \"\"\n",
    "\n",
    "count = 0\n",
    "# Iterate through each anime and get their keywords\n",
    "for index, row in anime_df.iterrows():\n",
    "    # Input double weighting on genre so recommendations are more genre-based\n",
    "    keyword_order = [row['Synopsis'], row['Genre'], row['Genre'], row['Producers']]\n",
    "    keywords = \" \".join(keyword_order)\n",
    "\n",
    "    # Use rake to discard English stopwords\n",
    "    r = Rake()\n",
    "\n",
    "    # Extracting the keywords by passing the text\n",
    "    r.extract_keywords_from_text(keywords)\n",
    "\n",
    "    # Get the dictionary with keywords as keys and scores as values\n",
    "    # Score = Degree(word) / Frequency(word)\n",
    "    key_words_dict_scores = r.get_word_degrees()\n",
    "    \n",
    "    # Remove punctuations from all keywords\n",
    "    wordlist = list(key_words_dict_scores.keys())\n",
    "    for index in range(0, len(wordlist)):\n",
    "        wordlist[index] = clean_text(wordlist[index])\n",
    "    \n",
    "    # Assign the key words to the keywords column\n",
    "    anime_df['Keywords'].iloc[count] = \" \".join(wordlist)\n",
    "    count+= 1"
   ]
  },
  {
   "cell_type": "code",
   "execution_count": null,
   "metadata": {},
   "outputs": [],
   "source": [
    "\"\"\"\n",
    "Skip running this block if the session \"my_anime_list.db\" has been loaded\n",
    "\"\"\"\n",
    "\n",
    "# Calculate frequency of keywords and generate the count matrix \n",
    "count = CountVectorizer()\n",
    "count_matrix = count.fit_transform(anime_df['Keywords'])\n",
    "\n",
    "# Generate the cosine similarity matrix\n",
    "cosine_sim = cosine_similarity(count_matrix, count_matrix)"
   ]
  },
  {
   "cell_type": "code",
   "execution_count": null,
   "metadata": {},
   "outputs": [],
   "source": [
    "# Store the Python data into byte streams for faster future processing\n",
    "dill.dump_session('my_anime_list.db')"
   ]
  },
  {
   "cell_type": "code",
   "execution_count": null,
   "metadata": {
    "scrolled": true
   },
   "outputs": [],
   "source": [
    "# Run the recommender here, and set the number of anime to be recommended in the second parameter\n",
    "anime_recommendations(cosine_sim, 10)"
   ]
  },
  {
   "cell_type": "markdown",
   "metadata": {},
   "source": [
    "PHASE 3: Provide personalised anime recommendations to users through the results of their queries"
   ]
  },
  {
   "cell_type": "code",
   "execution_count": null,
   "metadata": {},
   "outputs": [],
   "source": [
    "# Run the recommender here, and set the number of anime to be recommended in the third parameter\n",
    "anime_recommendations_from_query(query_recommendation_list, cosine_sim, 20)"
   ]
  },
  {
   "cell_type": "code",
   "execution_count": null,
   "metadata": {},
   "outputs": [],
   "source": []
  }
 ],
 "metadata": {
  "kernelspec": {
   "display_name": "Python 3",
   "language": "python",
   "name": "python3"
  },
  "language_info": {
   "codemirror_mode": {
    "name": "ipython",
    "version": 3
   },
   "file_extension": ".py",
   "mimetype": "text/x-python",
   "name": "python",
   "nbconvert_exporter": "python",
   "pygments_lexer": "ipython3",
   "version": "3.7.1"
  }
 },
 "nbformat": 4,
 "nbformat_minor": 2
}
